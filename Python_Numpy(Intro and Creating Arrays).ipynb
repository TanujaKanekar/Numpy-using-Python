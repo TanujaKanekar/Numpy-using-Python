{
 "cells": [
  {
   "cell_type": "markdown",
   "id": "cf3a8891",
   "metadata": {},
   "source": [
    "## NUMPY INTRODUCTION\n",
    "\n",
    "#### What is NumPy\n",
    "\n",
    "- NumPy is a Python library used for working with arrays.\n",
    "- It also has functions for working in domain of linear algebra, fourier transform and matrices.\n",
    "- NumPy was created in 2005 by Travis Oliphant, where it is an open source project and can be used freely.\n",
    "- NumPy stands for Numerical Python\n",
    "\n",
    "#### Why Use NumPy\n",
    "\n",
    "- In Python we have lists that serve the purpose of arrays,but they are slow to process.\n",
    "- NumPy aims to provide an array object that is upto 50x faster than Python lists.\n",
    "- The array object is NumPy is called ndarray, it provides a lot of shopping functions that make working with ndarray very easy.\n",
    "- Arrays are very frequently used in Data Science, where speed and resources are very important.\n",
    "\n",
    "#### How NumPy is Faster than Lists\n",
    "\n",
    "- Numpy arrays are stored at one continous place in memory unlike lists, so processes can access and manipulate them very efficiently.\n",
    "- This behavior is called locality of reference in computer science.\n",
    "- This is the main reason why NumPy is faster than lists.Also it is optimized to work with latest CPU architectures.\n",
    "\n",
    "#### Note\n",
    "- NumPy is a Python library and is written partially in Python, but most of the parts that require fast computation are written in C or C++.\n",
    "- The source code for NumPy is located at this github repository\n",
    "https://github.com/numpy/numpy"
   ]
  },
  {
   "cell_type": "markdown",
   "id": "621e0450",
   "metadata": {},
   "source": [
    "### Installation of NumPy\n",
    "- If you have Python and PIP alreay installed on a system, then install it using below command in jupyter notebook"
   ]
  },
  {
   "cell_type": "code",
   "execution_count": 2,
   "id": "5a15a52e",
   "metadata": {},
   "outputs": [],
   "source": [
    "# pip install numpy"
   ]
  },
  {
   "cell_type": "code",
   "execution_count": 5,
   "id": "ac61068b",
   "metadata": {},
   "outputs": [
    {
     "name": "stdout",
     "output_type": "stream",
     "text": [
      "[1 2 3 4 5 6]\n"
     ]
    },
    {
     "data": {
      "text/plain": [
       "array([1, 2, 3, 4, 5, 6])"
      ]
     },
     "execution_count": 5,
     "metadata": {},
     "output_type": "execute_result"
    }
   ],
   "source": [
    "#Importing the numpy\n",
    "import numpy\n",
    "\n",
    "arr = numpy.array([1,2,3,4,5,6])\n",
    "\n",
    "# output in two ways\n",
    "print(arr)\n",
    "#or\n",
    "arr"
   ]
  },
  {
   "cell_type": "markdown",
   "id": "f81dc3ba",
   "metadata": {},
   "source": [
    "#### NumPy is usually imported under the np alias."
   ]
  },
  {
   "cell_type": "code",
   "execution_count": 8,
   "id": "16d8fa1a",
   "metadata": {},
   "outputs": [
    {
     "name": "stdout",
     "output_type": "stream",
     "text": [
      "[1 2 3 4 5 6]\n"
     ]
    },
    {
     "data": {
      "text/plain": [
       "array([1, 2, 3, 4, 5, 6])"
      ]
     },
     "execution_count": 8,
     "metadata": {},
     "output_type": "execute_result"
    }
   ],
   "source": [
    "#Creating an alias with the as keyword while importing\n",
    "import numpy as np\n",
    "\n",
    "arr = np.array([1,2,3,4,5,6])\n",
    "\n",
    "print(arr)\n",
    "\n",
    "arr"
   ]
  },
  {
   "cell_type": "markdown",
   "id": "a7467524",
   "metadata": {},
   "source": [
    "### Checking NumPy Version\n",
    "\n",
    "- The version string is stored under __version__ attribute."
   ]
  },
  {
   "cell_type": "code",
   "execution_count": 9,
   "id": "f9e1123c",
   "metadata": {},
   "outputs": [
    {
     "name": "stdout",
     "output_type": "stream",
     "text": [
      "1.19.5\n"
     ]
    }
   ],
   "source": [
    "import numpy as np\n",
    "print(np.__version__)"
   ]
  },
  {
   "cell_type": "markdown",
   "id": "cc2b6f55",
   "metadata": {},
   "source": [
    "# NumPy Creating Arrays "
   ]
  },
  {
   "cell_type": "markdown",
   "id": "2ada930e",
   "metadata": {},
   "source": [
    "## Creating a NumPy ndarray Object\n",
    "\n",
    "- NumPy is used to work with arrays and the array object in NumPy is called ndarray.\n",
    "- We can create a NumPy ndarray object by using the array() function.\n",
    "- To create an ndarray, we can pass a list, tuple or any array-like object into the array() method, and it will be converted into an ndarray."
   ]
  },
  {
   "cell_type": "code",
   "execution_count": 12,
   "id": "7656bfde",
   "metadata": {},
   "outputs": [
    {
     "name": "stdout",
     "output_type": "stream",
     "text": [
      "[1 2 3 4 5 6]\n",
      "<class 'numpy.ndarray'>\n"
     ]
    }
   ],
   "source": [
    "#Using a list to create a NumPy array\n",
    "import numpy as np\n",
    "arr = np.array([1,2,3,4,5,6]) \n",
    "\n",
    "print(arr)\n",
    "\n",
    "print(type(arr))"
   ]
  },
  {
   "cell_type": "markdown",
   "id": "340728f1",
   "metadata": {},
   "source": [
    "> Note: type() - This built-in Python tells us the type of the object passed to it.Like in above code it shows that arr is numpy.ndarray type."
   ]
  },
  {
   "cell_type": "code",
   "execution_count": 13,
   "id": "6f18de79",
   "metadata": {},
   "outputs": [
    {
     "name": "stdout",
     "output_type": "stream",
     "text": [
      "[1 2 3 4 5]\n"
     ]
    }
   ],
   "source": [
    "#Using a tuple to create a NumPy array\n",
    "import numpy as np\n",
    "arr = np.array((1,2,3,4,5))\n",
    "print(arr)"
   ]
  },
  {
   "cell_type": "markdown",
   "id": "84013c36",
   "metadata": {},
   "source": [
    "## Dimensions in Arrays\n",
    "\n",
    "- A dimension in arrays is one level of array depth(nested arrays).\n",
    "- Nested arrays are arrays that have arrays as their elements."
   ]
  },
  {
   "cell_type": "markdown",
   "id": "5a175e59",
   "metadata": {},
   "source": [
    "### 0-D Arrays\n",
    "- 0-D arrays, or Scalars are the elements in an array, Each value in an array is a 0-D array."
   ]
  },
  {
   "cell_type": "code",
   "execution_count": 14,
   "id": "127d1334",
   "metadata": {},
   "outputs": [
    {
     "name": "stdout",
     "output_type": "stream",
     "text": [
      "42\n"
     ]
    }
   ],
   "source": [
    "#Creating a 0-D array with value 42\n",
    "import numpy as np\n",
    "arr = np.array(42)\n",
    "print(arr)"
   ]
  },
  {
   "cell_type": "markdown",
   "id": "d0623b28",
   "metadata": {},
   "source": [
    "### 1-D Arrays\n",
    "- An array that has 0-D arrays as its elements is called uni-dimensional or 1-D array\n",
    "- These are the most common and basic arrays"
   ]
  },
  {
   "cell_type": "code",
   "execution_count": 15,
   "id": "07295622",
   "metadata": {},
   "outputs": [
    {
     "name": "stdout",
     "output_type": "stream",
     "text": [
      "[1 2 3 4 5]\n"
     ]
    }
   ],
   "source": [
    "# Creating a 1-D array containing the values 1,2,3,4,5\n",
    "import numpy as np\n",
    "arr = np.array([1,2,3,4,5])\n",
    "print(arr)"
   ]
  },
  {
   "cell_type": "markdown",
   "id": "6dd3f13d",
   "metadata": {},
   "source": [
    "### 2-D Arrays\n",
    "- An array that has 1-D arrays as its elements is called a 2-D array.\n",
    "- These are often used to represent matrix or 2nd order tensors."
   ]
  },
  {
   "cell_type": "code",
   "execution_count": 16,
   "id": "2b928e4b",
   "metadata": {},
   "outputs": [
    {
     "name": "stdout",
     "output_type": "stream",
     "text": [
      "[[1 2 3]\n",
      " [4 5 6]]\n"
     ]
    }
   ],
   "source": [
    "#Creating a 2-D array containing two arrays with the values 1,2,3 and 6,7,8\n",
    "import numpy as np\n",
    "arr = np.array([[1,2,3],[4,5,6]])\n",
    "print(arr)"
   ]
  },
  {
   "cell_type": "markdown",
   "id": "745cf1a1",
   "metadata": {},
   "source": [
    "### 3-D Arrays\n",
    "- An array that has 2-D arrays(matrices) as its elements is called 3-D array.\n",
    "- These are often used to represent a 3rd order tensor"
   ]
  },
  {
   "cell_type": "code",
   "execution_count": 17,
   "id": "93c5fcb9",
   "metadata": {},
   "outputs": [
    {
     "name": "stdout",
     "output_type": "stream",
     "text": [
      "[[[1 2 3]\n",
      "  [7 8 9]]\n",
      "\n",
      " [[1 2 3]\n",
      "  [4 5 6]]]\n"
     ]
    }
   ],
   "source": [
    "# Create a 3-D array with two 2-D arrays both containing two arrays with the values 1,2,3 and 7,8,9\n",
    "import numpy as np\n",
    "arr = np.array([[[1,2,3],[7,8,9]], [[1,2,3],[4,5,6]]])\n",
    "print(arr)"
   ]
  },
  {
   "cell_type": "markdown",
   "id": "66fc1e43",
   "metadata": {},
   "source": [
    "## Checking the number of Dimensions  of the arrays\n",
    "\n",
    "- NumPy Arrays provides the ndim attribute that returns an integer that tells us how many dimensions the array have."
   ]
  },
  {
   "cell_type": "code",
   "execution_count": 18,
   "id": "5eb0b595",
   "metadata": {},
   "outputs": [
    {
     "name": "stdout",
     "output_type": "stream",
     "text": [
      "0\n",
      "1\n",
      "2\n",
      "3\n"
     ]
    }
   ],
   "source": [
    "import numpy as np\n",
    "\n",
    "a = np.array(56)\n",
    "b = np.array([1,4,6,8,9])\n",
    "c = np.array([[3,5,6],[2,9,20]])\n",
    "d = np.array([[[2,4,5],[5,6,7]],[[12,5,8],[50,6,7]]])\n",
    "\n",
    "print(a.ndim)\n",
    "print(b.ndim)\n",
    "print(c.ndim)\n",
    "print(d.ndim)"
   ]
  },
  {
   "cell_type": "markdown",
   "id": "1ae04130",
   "metadata": {},
   "source": [
    "### Higher Dimensional Arrays\n",
    "- An array can have any number of dimensions.\n",
    "- When the array is created, we can define the number of dimensions by using the ndim argument."
   ]
  },
  {
   "cell_type": "code",
   "execution_count": 21,
   "id": "32103391",
   "metadata": {},
   "outputs": [
    {
     "name": "stdout",
     "output_type": "stream",
     "text": [
      "[[[[[1 2 3 4]]]]]\n",
      "numer of dimensions:  5\n"
     ]
    }
   ],
   "source": [
    "# Creating an array with 5 dimensions and verify that it has 5 dimensions.\n",
    "import numpy as np\n",
    "arr = np.array([1,2,3,4], ndmin=5)\n",
    "\n",
    "print(arr)\n",
    "print('numer of dimensions: ', arr.ndim)"
   ]
  },
  {
   "cell_type": "markdown",
   "id": "cd6ceeaa",
   "metadata": {},
   "source": [
    "> In this array the innermost dimension (5th dim) has 4 elements, the 4th dim has 1 element that is the vector, the 3rd dim has 1 element that is the matrix with the vector, the 2nd dim has 1 element that is 3D array and 1st dim has 1 element that is a 4D array"
   ]
  },
  {
   "cell_type": "code",
   "execution_count": null,
   "id": "c9d7ebba",
   "metadata": {},
   "outputs": [],
   "source": []
  }
 ],
 "metadata": {
  "kernelspec": {
   "display_name": "Python 3 (ipykernel)",
   "language": "python",
   "name": "python3"
  },
  "language_info": {
   "codemirror_mode": {
    "name": "ipython",
    "version": 3
   },
   "file_extension": ".py",
   "mimetype": "text/x-python",
   "name": "python",
   "nbconvert_exporter": "python",
   "pygments_lexer": "ipython3",
   "version": "3.8.8"
  }
 },
 "nbformat": 4,
 "nbformat_minor": 5
}
